{
 "cells": [
  {
   "cell_type": "markdown",
   "id": "adcafe87-1661-44c1-90d9-04a986e17b7f",
   "metadata": {
    "collapsed": false,
    "name": "security"
   },
   "source": [
    "---\n",
    "## Setup Security"
   ]
  },
  {
   "cell_type": "code",
   "execution_count": null,
   "id": "a3ed67f5-0160-4c2a-8cc4-8dc5b614ccb3",
   "metadata": {
    "language": "sql",
    "name": "security_1"
   },
   "outputs": [],
   "source": [
    "-- USE ROLE SECURITYADMIN;\n",
    "\n",
    "-- GRANT USAGE ON DATABASE HISTORICAL_QUOTES_DEMO TO ROLE OPENFLOW_RUNTIME1_ROLE;\n",
    "-- GRANT USAGE ON SCHEMA HISTORICAL_QUOTES_DEMO.PUBLIC TO ROLE OPENFLOW_RUNTIME1_ROLE;\n",
    "-- GRANT CREATE TABLE ON SCHEMA HISTORICAL_QUOTES_DEMO.PUBLIC TO ROLE OPENFLOW_RUNTIME1_ROLE;\n",
    "\n",
    "-- GRANT USAGE ON DATABASE HISTORICAL_QUOTES_DEMO TO ROLE ACCOUNTADMIN;\n",
    "-- GRANT USAGE ON SCHEMA HISTORICAL_QUOTES_DEMO.PUBLIC TO ROLE ACCOUNTADMIN;\n",
    "-- GRANT SELECT ON ALL TABLES IN SCHEMA HISTORICAL_QUOTES_DEMO.PUBLIC to ROLE ACCOUNTADMIN;\n",
    "-- GRANT CREATE TABLE ON SCHEMA HISTORICAL_QUOTES_DEMO.PUBLIC TO ROLE ACCOUNTADMIN;\n",
    "-- GRANT CREATE DYNAMIC TABLE ON SCHEMA HISTORICAL_QUOTES_DEMO.PUBLIC TO ROLE ACCOUNTADMIN;\n",
    "\n",
    "-- GRANT CREATE STREAMLIT ON SCHEMA HISTORICAL_QUOTES_DEMO.PUBLIC TO ROLE PUBLIC;\n",
    "-- GRANT CREATE STAGE ON SCHEMA HISTORICAL_QUOTES_DEMO.PUBLIC TO ROLE PUBLIC;\n",
    "-- GRANT USAGE ON WAREHOUSE \"SYSTEM$STREAMLIT_NOTEBOOK_WH\" TO ROLE PUBLIC;\n",
    "\n",
    "-- ALTER ACCOUNT SET CORTEX_ENABLED_CROSS_REGION = 'AWS_EU';\n",
    "\n",
    "-- GRANT DATABASE ROLE SNOWFLAKE.CORTEX_USER TO ROLE ACCOUNTADMIN;\n",
    "-- CREATE DATABASE IF NOT EXISTS snowflake_intelligence;\n",
    "-- CREATE SCHEMA IF NOT EXISTS snowflake_intelligence.agents;\n",
    "-- GRANT USAGE ON DATABASE snowflake_intelligence TO ROLE ACCOUNTADMIN;\n",
    "-- GRANT USAGE ON SCHEMA snowflake_intelligence.agents TO ROLE ACCOUNTADMIN;\n",
    "-- GRANT CREATE AGENT ON SCHEMA snowflake_intelligence.agents TO ROLE ACCOUNTADMIN;"
   ]
  },
  {
   "cell_type": "markdown",
   "id": "2df79577-9749-4f15-b511-b8cb4f2ae186",
   "metadata": {
    "collapsed": false,
    "name": "dynamic_table"
   },
   "source": [
    "---\n",
    "## Create Dynamic Table\n",
    "`HISTORICAL_QUOTES_TYPED` is a copy of the table created by the Openflow Kafka connector, but with correct types for date and currency columns."
   ]
  },
  {
   "cell_type": "code",
   "execution_count": null,
   "id": "3775908f-ca36-4846-8f38-5adca39217f2",
   "metadata": {
    "codeCollapsed": false,
    "language": "sql",
    "name": "dynamic_table_1"
   },
   "outputs": [],
   "source": [
    "USE ROLE ACCOUNTADMIN;\n",
    "USE DATABASE HISTORICAL_QUOTES_DEMO;\n",
    "\n",
    "CREATE OR REPLACE DYNAMIC TABLE \"HISTORICAL_QUOTES_TYPED\"\n",
    "    TARGET_LAG = '1 hour'\n",
    "    WAREHOUSE = 'COMPUTE_WH'\n",
    "    AS\n",
    "        SELECT \n",
    "            SYMBOL,\n",
    "            TO_DATE(DATE) AS QUOTE_DATE,\n",
    "            TO_DOUBLE(LTRIM(CLOSE_LAST, '$')) AS CLOSE_LAST_USD,\n",
    "            VOLUME,\n",
    "            TO_DOUBLE(LTRIM(OPEN, '$')) AS OPEN_USD,\n",
    "            TO_DOUBLE(LTRIM(HIGH, '$')) AS HIGH_USD,\n",
    "            TO_DOUBLE(LTRIM(LOW, '$')) AS LOW_USD\n",
    "        FROM \"HISTORICAL-STOCK-QUOTES\";\n",
    "\n",
    "-- DESC TABLE \"HISTORICAL-STOCK-QUOTES\";\n",
    "-- DESC TABLE \"HISTORICAL_QUOTES_TYPED\";"
   ]
  },
  {
   "cell_type": "code",
   "execution_count": null,
   "id": "ba612ec4-50ff-4a1a-a191-d57c62a7a12c",
   "metadata": {
    "codeCollapsed": false,
    "language": "sql",
    "name": "dynamic_table_2"
   },
   "outputs": [],
   "source": [
    "------------------------------\n",
    "-- Speed things up a bit\n",
    "------------------------------\n",
    "ALTER DYNAMIC TABLE \"HISTORICAL_QUOTES_TYPED\" SET TARGET_LAG = '1 minute';\n",
    "-- ALTER DYNAMIC TABLE \"HISTORICAL_QUOTES_TYPED\" SET TARGET_LAG = '1 hour';"
   ]
  },
  {
   "cell_type": "code",
   "execution_count": null,
   "id": "f2c34e75-aec3-4cdc-a1ad-ec7951397125",
   "metadata": {
    "language": "sql",
    "name": "dynamic_table_3"
   },
   "outputs": [],
   "source": [
    "SELECT \n",
    "    SYMBOL,\n",
    "    COUNT(QUOTE_DATE) AS num_quotes,\n",
    "    MAX(VOLUME),\n",
    "    MAX(CLOSE_LAST_USD),\n",
    "    MAX(QUOTE_DATE)\n",
    "FROM \"HISTORICAL_QUOTES_TYPED\"\n",
    "GROUP BY SYMBOL\n",
    "ORDER BY SYMBOL;"
   ]
  },
  {
   "cell_type": "markdown",
   "id": "6d0a7a0c-2d93-4e28-8d7c-35263c4120fa",
   "metadata": {
    "collapsed": false,
    "name": "forecast"
   },
   "source": [
    "---\n",
    "## Stock Price Forecast"
   ]
  },
  {
   "cell_type": "code",
   "execution_count": null,
   "id": "ee51fd44-d86f-4a7b-bb82-d95b8caeb0d6",
   "metadata": {
    "language": "sql",
    "name": "forecast_1"
   },
   "outputs": [],
   "source": [
    "-- CREATE OR REPLACE VIEW \"TIMESERIES-STOCK-QUOTES\" AS \n",
    "--     SELECT \n",
    "--         SYMBOL,\n",
    "--         TO_DATE(DATE) AS QUOTE_DATE,\n",
    "--         TO_DOUBLE(LTRIM(CLOSE_LAST, '$')) AS CLOSE_LAST_USD        \n",
    "--     FROM \"HISTORICAL-STOCK-QUOTES\"\n",
    "--     ORDER BY SYMBOL, QUOTE_DATE;\n",
    "\n",
    "SELECT * FROM \"TIMESERIES-STOCK-QUOTES\" LIMIT 10;"
   ]
  },
  {
   "cell_type": "code",
   "execution_count": null,
   "id": "93741ac4-573f-4707-808c-264ffb984a9f",
   "metadata": {
    "language": "sql",
    "name": "forecast_2"
   },
   "outputs": [],
   "source": [
    "------------------------------\n",
    "-- Create forecast model\n",
    "------------------------------\n",
    "-- CREATE SNOWFLAKE.ML.FORECAST stock_quote_forecast(\n",
    "--   INPUT_DATA => TABLE(\"TIMESERIES-STOCK-QUOTES\"),\n",
    "--   SERIES_COLNAME => 'SYMBOL',\n",
    "--   TIMESTAMP_COLNAME => 'QUOTE_DATE',\n",
    "--   TARGET_COLNAME => 'CLOSE_LAST_USD'\n",
    "-- );"
   ]
  },
  {
   "cell_type": "code",
   "execution_count": null,
   "id": "2e4c578d-0bd3-4cf1-839b-999af861842a",
   "metadata": {
    "language": "sql",
    "name": "forecast_3"
   },
   "outputs": [],
   "source": [
    "CREATE OR REPLACE TABLE \"FORECAST-STOCK-QUOTES\" AS\n",
    "  SELECT * \n",
    "  FROM TABLE(stock_quote_forecast!FORECAST(FORECASTING_PERIODS => 183));"
   ]
  },
  {
   "cell_type": "code",
   "execution_count": null,
   "id": "2115908e-a98c-489b-ace1-f7b7d12193a0",
   "metadata": {
    "language": "sql",
    "name": "forecast_4"
   },
   "outputs": [],
   "source": [
    "DESC TABLE \"FORECAST-STOCK-QUOTES\";\n",
    "\n",
    "-- SELECT * \n",
    "-- FROM \"FORECAST-STOCK-QUOTES\"\n",
    "-- WHERE SERIES = 'SNOW'\n",
    "-- ORDER BY \"TS\" DESC;"
   ]
  },
  {
   "cell_type": "markdown",
   "id": "305cce61-cf2a-413f-adfe-b188f4c4f2e8",
   "metadata": {
    "collapsed": false,
    "name": "cleanup"
   },
   "source": [
    "---\n",
    "## Cleanup After Yourself!"
   ]
  },
  {
   "cell_type": "code",
   "execution_count": null,
   "id": "8d50cbf4-0c8d-4950-86cb-114990437ac9",
   "metadata": {
    "codeCollapsed": false,
    "language": "sql",
    "name": "drop_dynamic_table"
   },
   "outputs": [],
   "source": [
    "----------------------------------------\n",
    "-- Don't forget to drop the dynamic table to avoid wasting dollars\n",
    "----------------------------------------\n",
    "-- DROP DYNAMIC TABLE \"HISTORICAL_QUOTES_TYPED\";"
   ]
  },
  {
   "cell_type": "code",
   "execution_count": null,
   "id": "c695373e-ac74-4b62-a1f1-08206cbd5c81",
   "metadata": {
    "language": "sql",
    "name": "truncate_kafka_table"
   },
   "outputs": [],
   "source": [
    "----------------------------------------\n",
    "-- Truncate the Kafka table\n",
    "----------------------------------------\n",
    "-- TRUNCATE TABLE IF EXISTS \"HISTORICAL-STOCK-QUOTES\";"
   ]
  },
  {
   "cell_type": "code",
   "execution_count": null,
   "id": "179195b8-6b7d-4974-ba90-00de8817a23a",
   "metadata": {
    "language": "sql",
    "name": "drop_forecast_model"
   },
   "outputs": [],
   "source": [
    "----------------------------------------\n",
    "-- Drop the stock price forecast table and model\n",
    "----------------------------------------\n",
    "-- DROP TABLE \"FORECAST-STOCK-QUOTES\";\n",
    "-- DROP SNOWFLAKE.ML.FORECAST stock_quote_forecast;"
   ]
  }
 ],
 "metadata": {
  "kernelspec": {
   "display_name": "Streamlit Notebook",
   "name": "streamlit"
  },
  "lastEditStatus": {
   "authorEmail": "james.kinley@snowflake.com",
   "authorId": "1684103632069",
   "authorName": "JKINLEY",
   "lastEditTime": 1760630452373,
   "notebookId": "q3nktbpvjxiark27vy5z",
   "sessionId": "cc623404-4445-4477-9d90-3b54878bffc5"
  }
 },
 "nbformat": 4,
 "nbformat_minor": 5
}
