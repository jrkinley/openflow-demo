{
 "cells": [
  {
   "cell_type": "markdown",
   "id": "adcafe87-1661-44c1-90d9-04a986e17b7f",
   "metadata": {
    "collapsed": false,
    "name": "security"
   },
   "source": [
    "---\n",
    "## Setup Security"
   ]
  },
  {
   "cell_type": "code",
   "execution_count": null,
   "id": "a3ed67f5-0160-4c2a-8cc4-8dc5b614ccb3",
   "metadata": {
    "language": "sql",
    "name": "security_1"
   },
   "outputs": [],
   "source": [
    "-- USE ROLE SECURITYADMIN;\n",
    "\n",
    "-- GRANT USAGE ON DATABASE HISTORICAL_QUOTES_DEMO TO ROLE OPENFLOW_RUNTIME1_ROLE;\n",
    "-- GRANT USAGE ON SCHEMA HISTORICAL_QUOTES_DEMO.PUBLIC TO ROLE OPENFLOW_RUNTIME1_ROLE;\n",
    "-- GRANT CREATE TABLE ON SCHEMA HISTORICAL_QUOTES_DEMO.PUBLIC TO ROLE OPENFLOW_RUNTIME1_ROLE;\n",
    "\n",
    "-- GRANT USAGE ON DATABASE HISTORICAL_QUOTES_DEMO TO ROLE ACCOUNTADMIN;\n",
    "-- GRANT USAGE ON SCHEMA HISTORICAL_QUOTES_DEMO.PUBLIC TO ROLE ACCOUNTADMIN;\n",
    "-- GRANT SELECT ON ALL TABLES IN SCHEMA HISTORICAL_QUOTES_DEMO.PUBLIC to ROLE ACCOUNTADMIN;\n",
    "-- GRANT CREATE TABLE ON SCHEMA HISTORICAL_QUOTES_DEMO.PUBLIC TO ROLE ACCOUNTADMIN;\n",
    "-- GRANT CREATE DYNAMIC TABLE ON SCHEMA HISTORICAL_QUOTES_DEMO.PUBLIC TO ROLE ACCOUNTADMIN;"
   ]
  },
  {
   "cell_type": "markdown",
   "id": "2df79577-9749-4f15-b511-b8cb4f2ae186",
   "metadata": {
    "collapsed": false,
    "name": "dynamic_table"
   },
   "source": [
    "---\n",
    "## Create Dynamic Table\n",
    "`HISTORICAL_QUOTES_TYPED` is a copy of the table created by the Openflow Kafka connector, but with correct types for date and currency columns."
   ]
  },
  {
   "cell_type": "code",
   "execution_count": null,
   "id": "3775908f-ca36-4846-8f38-5adca39217f2",
   "metadata": {
    "codeCollapsed": false,
    "language": "sql",
    "name": "dynamic_table_1"
   },
   "outputs": [],
   "source": [
    "USE ROLE ACCOUNTADMIN;\n",
    "USE DATABASE HISTORICAL_QUOTES_DEMO;\n",
    "\n",
    "CREATE OR REPLACE DYNAMIC TABLE \"HISTORICAL_QUOTES_TYPED\"\n",
    "    TARGET_LAG = '1 hour'\n",
    "    WAREHOUSE = 'COMPUTE_WH'\n",
    "    AS\n",
    "        SELECT \n",
    "            SYMBOL,\n",
    "            TO_DATE(DATE) AS QUOTE_DATE,\n",
    "            TO_DOUBLE(LTRIM(CLOSE_LAST, '$')) AS CLOSE_LAST_USD,\n",
    "            VOLUME,\n",
    "            TO_DOUBLE(LTRIM(OPEN, '$')) AS OPEN_USD,\n",
    "            TO_DOUBLE(LTRIM(HIGH, '$')) AS HIGH_USD,\n",
    "            TO_DOUBLE(LTRIM(LOW, '$')) AS LOW_USD\n",
    "        FROM \"HISTORICAL-STOCK-QUOTES\";"
   ]
  },
  {
   "cell_type": "code",
   "execution_count": null,
   "id": "ba612ec4-50ff-4a1a-a191-d57c62a7a12c",
   "metadata": {
    "language": "sql",
    "name": "dynamic_table_2"
   },
   "outputs": [],
   "source": [
    "ALTER DYNAMIC TABLE \"HISTORICAL_QUOTES_TYPED\" SET TARGET_LAG = '1 minute';\n",
    "-- ALTER DYNAMIC TABLE \"HISTORICAL_QUOTES_TYPED\" SET TARGET_LAG = '1 hour';"
   ]
  },
  {
   "cell_type": "code",
   "execution_count": null,
   "id": "f2c34e75-aec3-4cdc-a1ad-ec7951397125",
   "metadata": {
    "language": "sql",
    "name": "dynamic_table_3"
   },
   "outputs": [],
   "source": [
    "SELECT \n",
    "    SYMBOL,\n",
    "    COUNT(QUOTE_DATE) AS num_quotes,\n",
    "    MAX(VOLUME),\n",
    "    MAX(CLOSE_LAST_USD),\n",
    "    MAX(QUOTE_DATE)\n",
    "FROM \"HISTORICAL_QUOTES_TYPED\"\n",
    "GROUP BY SYMBOL\n",
    "ORDER BY SYMBOL;"
   ]
  },
  {
   "cell_type": "markdown",
   "id": "305cce61-cf2a-413f-adfe-b188f4c4f2e8",
   "metadata": {
    "collapsed": false,
    "name": "cleanup"
   },
   "source": [
    "---\n",
    "## Cleanup After Yourself"
   ]
  },
  {
   "cell_type": "code",
   "execution_count": null,
   "id": "8d50cbf4-0c8d-4950-86cb-114990437ac9",
   "metadata": {
    "codeCollapsed": false,
    "language": "sql",
    "name": "drop_dynamic_table"
   },
   "outputs": [],
   "source": [
    "----------------------------------------\n",
    "-- Don't forget to drop the dynamic table to avoid wasting dollars\n",
    "----------------------------------------\n",
    "-- DROP DYNAMIC TABLE \"HISTORICAL_QUOTES_TYPED\";"
   ]
  },
  {
   "cell_type": "code",
   "execution_count": null,
   "id": "c695373e-ac74-4b62-a1f1-08206cbd5c81",
   "metadata": {
    "language": "sql",
    "name": "truncate_kafka_table"
   },
   "outputs": [],
   "source": [
    "----------------------------------------\n",
    "-- Truncate the Kafka table\n",
    "----------------------------------------\n",
    "-- TRUNCATE TABLE IF EXISTS \"HISTORICAL-STOCK-QUOTES\";"
   ]
  }
 ],
 "metadata": {
  "kernelspec": {
   "display_name": "Streamlit Notebook",
   "name": "streamlit"
  },
  "lastEditStatus": {
   "authorEmail": "james.kinley@snowflake.com",
   "authorId": "1684103632069",
   "authorName": "JKINLEY",
   "lastEditTime": 1760546540094,
   "notebookId": "q3nktbpvjxiark27vy5z",
   "sessionId": "569c4a20-6f9c-49ff-bb27-056c0a5042f7"
  }
 },
 "nbformat": 4,
 "nbformat_minor": 5
}
